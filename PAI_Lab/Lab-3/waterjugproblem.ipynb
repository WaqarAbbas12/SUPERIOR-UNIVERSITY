{
 "cells": [
  {
   "cell_type": "markdown",
   "metadata": {},
   "source": [
    "# Lab 3 \n",
    "## Task : Water Jug Problem"
   ]
  },
  {
   "cell_type": "code",
   "execution_count": 3,
   "metadata": {},
   "outputs": [
    {
     "name": "stdout",
     "output_type": "stream",
     "text": [
      "Goal achived: 2\n",
      "(0, 0)\n",
      "((4, 0), 'fill jug1')\n",
      "((0, 3), 'fill jug2')\n",
      "(0, 3)\n",
      "((4, 3), 'fill jug1')\n",
      "((3, 0), 'Pour jug2 into jug1 untill its full')\n",
      "(3, 0)\n",
      "((3, 3), 'fill jug2')\n",
      "(3, 3)\n",
      "((4, 2), 'Pour jug2 into jug1 untill its full')\n",
      "(4, 2)\n"
     ]
    },
    {
     "data": {
      "text/plain": [
       "True"
      ]
     },
     "execution_count": 3,
     "metadata": {},
     "output_type": "execute_result"
    }
   ],
   "source": [
    "def water_jug_problem(capacityjug1,capacityjug2,goal):\n",
    "\n",
    "    stack   = []\n",
    "    visited = set()\n",
    "\n",
    "    stack.append((0,0))\n",
    "    visited.add((0,0))\n",
    "\n",
    "    actions = []\n",
    "\n",
    "    while stack:\n",
    "        jug1 , jug2 = stack.pop()\n",
    "\n",
    "        actions.append((jug1, jug2))\n",
    "\n",
    "        # check if goal is achive \n",
    "\n",
    "        if jug1 == goal or jug2 == goal:\n",
    "            print(\"Goal achived:\", goal)\n",
    "            for state in actions:\n",
    "                print(state)\n",
    "            return True\n",
    "\n",
    "        rules = { \n",
    "            \"fill jug1\" : (capacityjug1,jug2),\n",
    "            \"fill jug2\" : (jug1 , capacityjug2),\n",
    "            \"Empty jug1\": (0,jug2),\n",
    "            \"Empty jug2\": (jug1 , 0) ,\n",
    "            \"Pour jug1 into jug2 untill its full\" : (jug1 - min(jug1 , capacityjug2 - jug2),\n",
    "                                                     jug2 + min(jug1, capacityjug2 - jug2)) ,\n",
    "            \"Pour jug2 into jug1 untill its full\" : (jug1 + min(jug2 , capacityjug1 - jug1),\n",
    "                                                     jug2 - min(jug2, capacityjug1 - jug1)) \n",
    "        }\n",
    "\n",
    "\n",
    "        for rule , new_state in rules.items():\n",
    "\n",
    "            if new_state not in visited:\n",
    "                visited.add(new_state)\n",
    "                stack.append(new_state)\n",
    "                actions.append((new_state,rule))\n",
    "\n",
    "    print(\"Solution not found\")\n",
    "    return False\n",
    "\n",
    "jug1Capacity = int(input(\"Enter the capacity of jug 1:\"))\n",
    "jug2Capacity = int(input(\"Enter the capacity of jug 2:\"))\n",
    "target       = int(input(\"Enter the Goal:\")) \n",
    "\n",
    "\n",
    "\n",
    "water_jug_problem(jug1Capacity, jug2Capacity, target)"
   ]
  }
 ],
 "metadata": {
  "kernelspec": {
   "display_name": "Python 3",
   "language": "python",
   "name": "python3"
  },
  "language_info": {
   "codemirror_mode": {
    "name": "ipython",
    "version": 3
   },
   "file_extension": ".py",
   "mimetype": "text/x-python",
   "name": "python",
   "nbconvert_exporter": "python",
   "pygments_lexer": "ipython3",
   "version": "3.13.1"
  }
 },
 "nbformat": 4,
 "nbformat_minor": 2
}
